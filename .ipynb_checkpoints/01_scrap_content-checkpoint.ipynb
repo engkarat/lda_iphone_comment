{
 "cells": [
  {
   "cell_type": "code",
   "execution_count": 1,
   "metadata": {
    "collapsed": true
   },
   "outputs": [],
   "source": [
    "import requests\n",
    "from bs4 import BeautifulSoup"
   ]
  },
  {
   "cell_type": "code",
   "execution_count": 13,
   "metadata": {
    "collapsed": true
   },
   "outputs": [],
   "source": [
    "html_pages = ['https://www.gsmarena.com/apple-phones-48.php', 'https://www.gsmarena.com/apple-phones-f-48-0-p2.php']\n",
    "url = 'https://www.gsmarena.com/'"
   ]
  },
  {
   "cell_type": "code",
   "execution_count": 3,
   "metadata": {},
   "outputs": [],
   "source": [
    "iphone_links = []\n",
    "for page in html_pages:\n",
    "    r = requests.get(page)\n",
    "    page_html = r.text\n",
    "    soup = BeautifulSoup(page_html, 'html.parser')\n",
    "    elems = soup.find(id='review-body')\n",
    "    elems = elems.find('ul')\n",
    "    elems = elems.find_all('li')\n",
    "    for i in elems:\n",
    "        link = i.find('a').get('href')\n",
    "        if 'iphone' in link:\n",
    "#             print(link)\n",
    "            iphone_links.append(link)"
   ]
  },
  {
   "cell_type": "code",
   "execution_count": 4,
   "metadata": {},
   "outputs": [
    {
     "data": {
      "text/plain": [
       "'https://www.gsmarena.com/apple_iphone_x-8858.php'"
      ]
     },
     "execution_count": 4,
     "metadata": {},
     "output_type": "execute_result"
    }
   ],
   "source": [
    "full_link = url + iphone_links[0]\n",
    "full_link"
   ]
  },
  {
   "cell_type": "code",
   "execution_count": 5,
   "metadata": {
    "collapsed": true
   },
   "outputs": [],
   "source": [
    "r2 = requests.get(full_link)\n",
    "page_html = r2.text"
   ]
  },
  {
   "cell_type": "code",
   "execution_count": 6,
   "metadata": {},
   "outputs": [
    {
     "name": "stdout",
     "output_type": "stream",
     "text": [
      "apple_iphone_x-reviews-8858.php\n",
      "apple_iphone_8_plus-reviews-8131.php\n",
      "apple_iphone_8-reviews-8573.php\n",
      "apple_iphone_7_plus-reviews-8065.php\n",
      "apple_iphone_7-reviews-8064.php\n",
      "apple_iphone_se-reviews-7969.php\n",
      "apple_iphone_6s_plus-reviews-7243.php\n",
      "apple_iphone_6s-reviews-7242.php\n",
      "apple_iphone_6_plus-reviews-6665.php\n",
      "apple_iphone_6-reviews-6378.php\n",
      "apple_iphone_5s-reviews-5685.php\n",
      "apple_iphone_5c-reviews-5690.php\n",
      "apple_iphone_5-reviews-4910.php\n",
      "apple_iphone_4s-reviews-4212.php\n",
      "apple_iphone_4-reviews-3275.php\n",
      "apple_iphone_4_cdma-reviews-3716.php\n",
      "apple_iphone_3gs-reviews-2826.php\n",
      "apple_iphone_3g-reviews-2424.php\n",
      "apple_iphone-reviews-1827.php\n"
     ]
    }
   ],
   "source": [
    "review_pages = []\n",
    "for i in iphone_links:\n",
    "    full_link = url + i\n",
    "    r2 = requests.get(full_link)\n",
    "    page_html = r2.text\n",
    "    soup2 = BeautifulSoup(page_html, 'html.parser')\n",
    "    a_tags = soup2.find_all('a')\n",
    "    ans = []\n",
    "    for a in a_tags:\n",
    "        link = a.get('href')\n",
    "        if 'reviews' in link and 'iphone' in link:\n",
    "            ans.append(link)\n",
    "    review_pages.append(ans[0])\n",
    "    print(ans[0])"
   ]
  },
  {
   "cell_type": "code",
   "execution_count": 7,
   "metadata": {},
   "outputs": [],
   "source": [
    "review_pages_mod = []\n",
    "for p in review_pages:\n",
    "    tmp = p.split('.')\n",
    "    new_url = tmp[0]+'{}.'+tmp[1]\n",
    "#     print(new_url)\n",
    "    review_pages_mod.append(new_url)"
   ]
  },
  {
   "cell_type": "code",
   "execution_count": 8,
   "metadata": {},
   "outputs": [],
   "source": [
    "# Looping for get last page available\n",
    "last_pages = []\n",
    "for review_page in review_pages:\n",
    "    review_r = requests.get(url+review_page)\n",
    "    soup_review = BeautifulSoup(review_r.text, 'html.parser')\n",
    "    a_tags = soup_review.find('div', id='user-pages')\n",
    "    last = str(list(a_tags)[-4])\n",
    "    last_p = last.split('</')[0].split('>')[-1]\n",
    "#     print(review_page, last_p)\n",
    "    last_pages.append(last_p)"
   ]
  },
  {
   "cell_type": "code",
   "execution_count": 9,
   "metadata": {},
   "outputs": [
    {
     "data": {
      "text/plain": [
       "(19, 19)"
      ]
     },
     "execution_count": 9,
     "metadata": {},
     "output_type": "execute_result"
    }
   ],
   "source": [
    "len(last_pages), len(review_pages)"
   ]
  },
  {
   "cell_type": "code",
   "execution_count": 10,
   "metadata": {},
   "outputs": [
    {
     "name": "stdout",
     "output_type": "stream",
     "text": [
      "('91', 'apple_iphone_x-reviews-8858{}.php')\n",
      "('27', 'apple_iphone_8_plus-reviews-8131{}.php')\n",
      "('39', 'apple_iphone_8-reviews-8573{}.php')\n",
      "('115', 'apple_iphone_7_plus-reviews-8065{}.php')\n",
      "('193', 'apple_iphone_7-reviews-8064{}.php')\n",
      "('189', 'apple_iphone_se-reviews-7969{}.php')\n",
      "('103', 'apple_iphone_6s_plus-reviews-7243{}.php')\n",
      "('229', 'apple_iphone_6s-reviews-7242{}.php')\n",
      "('175', 'apple_iphone_6_plus-reviews-6665{}.php')\n",
      "('495', 'apple_iphone_6-reviews-6378{}.php')\n",
      "('546', 'apple_iphone_5s-reviews-5685{}.php')\n",
      "('105', 'apple_iphone_5c-reviews-5690{}.php')\n",
      "('753', 'apple_iphone_5-reviews-4910{}.php')\n",
      "('620', 'apple_iphone_4s-reviews-4212{}.php')\n",
      "('1012', 'apple_iphone_4-reviews-3275{}.php')\n",
      "('21', 'apple_iphone_4_cdma-reviews-3716{}.php')\n",
      "('696', 'apple_iphone_3gs-reviews-2826{}.php')\n",
      "('597', 'apple_iphone_3g-reviews-2424{}.php')\n",
      "('418', 'apple_iphone-reviews-1827{}.php')\n"
     ]
    }
   ],
   "source": [
    "for i in zip(last_pages, review_pages_mod):\n",
    "    print(i)"
   ]
  },
  {
   "cell_type": "code",
   "execution_count": 11,
   "metadata": {},
   "outputs": [],
   "source": [
    "all_url = []\n",
    "for last_page, url in zip(last_pages, review_pages_mod):\n",
    "    for i in range(1, int(last_page)+1):\n",
    "        new_url = url.format('p'+str(i))\n",
    "        all_url.append(new_url)"
   ]
  },
  {
   "cell_type": "code",
   "execution_count": 14,
   "metadata": {},
   "outputs": [],
   "source": [
    "all_comments = []\n",
    "all_times = []\n",
    "for each_url in all_url:\n",
    "    if 'iphone_5' in each_url or 'iphone_6' in each_url:\n",
    "        full_url = url+each_url\n",
    "        get_comment_req = requests.get(full_url)\n",
    "        soup_get_comment = BeautifulSoup(get_comment_req.text, 'html.parser')\n",
    "        contents = soup_get_comment.find_all('div', id='all-opinions')\n",
    "        all_p = contents[0].find_all('p')\n",
    "        for p in all_p:\n",
    "            a_str = str(p.a)\n",
    "            txt = str(p).replace(a_str, '')\n",
    "            span_str = str(p.span)\n",
    "            txt = txt.replace(span_str, '')\n",
    "            part_of_content = BeautifulSoup(txt, 'html.parser')\n",
    "            txt = part_of_content.get_text().replace('\\n \\r\\n', '').strip()\n",
    "            all_comments.append(all_comments)\n",
    "        all_ul = contents[0].find_all('ul')\n",
    "        for ul in all_ul:\n",
    "            for li in ul.find_all('time'):\n",
    "                time = li.get_text()\n",
    "                all_times.append(time)\n",
    "#         print(each_url)"
   ]
  },
  {
   "cell_type": "code",
   "execution_count": 15,
   "metadata": {},
   "outputs": [
    {
     "name": "stdout",
     "output_type": "stream",
     "text": [
      "48049 48049\n"
     ]
    }
   ],
   "source": [
    "print(len(all_comments), len(all_times))"
   ]
  },
  {
   "cell_type": "code",
   "execution_count": null,
   "metadata": {
    "collapsed": true
   },
   "outputs": [],
   "source": [
    "contents_data = []\n",
    "for i in range(len(all_comments)):\n",
    "    content_data = {'comment': all_comments[i], 'time': all_times[i]}"
   ]
  }
 ],
 "metadata": {
  "anaconda-cloud": {},
  "kernelspec": {
   "display_name": "Python 3",
   "language": "python",
   "name": "python3"
  },
  "language_info": {
   "codemirror_mode": {
    "name": "ipython",
    "version": 3
   },
   "file_extension": ".py",
   "mimetype": "text/x-python",
   "name": "python",
   "nbconvert_exporter": "python",
   "pygments_lexer": "ipython3",
   "version": "3.6.3"
  }
 },
 "nbformat": 4,
 "nbformat_minor": 1
}
