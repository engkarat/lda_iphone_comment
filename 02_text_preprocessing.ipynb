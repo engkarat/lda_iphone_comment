{
 "cells": [
  {
   "cell_type": "code",
   "execution_count": 12,
   "metadata": {},
   "outputs": [
    {
     "data": {
      "image/png": "[encoded data removed]",
      "text/plain": [
       "<matplotlib.figure.Figure at 0x7f68b6f68438>"
      ]
     },
     "metadata": {},
     "output_type": "display_data"
    }
   ],
   "source": [
    "%matplotlib inline\n",
    "from math import *\n",
    "import numpy as np\n",
    "from matplotlib.pylab import * \n",
    "\n",
    "\n",
    "n=500\n",
    "rho=.99 #correlation\n",
    "#Means\n",
    "m1 = 10\n",
    "m2 = 20\n",
    "#Standard deviations\n",
    "s1 = 1\n",
    "s2 = 1\n",
    "#Initialize vectors\n",
    "x=np.zeros(n, np.float)\n",
    "y=np.zeros(n, np.float)\n",
    "sd=sqrt(1-rho**2)\n",
    "# the core of the method: sample recursively from two normal distributions\n",
    "# Tthe mean for the current sample, is updated at each step.\n",
    "for i in range(1,n):\n",
    "  x[i] = normal(m1+rho*(y[i-1]-m2)/s2,s1*sd)\n",
    "  y[i] = normal(m2+rho*(x[i-1]-m1)/s1,s2*sd)\n",
    "\n",
    "scatter(x,y,marker='d',c='r')\n",
    "title('Amostrador de Gibbs')\n",
    "xlabel('x')\n",
    "ylabel('y')\n",
    "grid()\n",
    "\n",
    "show()"
   ]
  },
  {
   "cell_type": "code",
   "execution_count": 2,
   "metadata": {
    "collapsed": true
   },
   "outputs": [],
   "source": [
    "import json\n",
    "import nltk\n",
    "import sklearn\n",
    "import string\n",
    "import numpy as np\n",
    "from nltk.corpus import stopwords"
   ]
  },
  {
   "cell_type": "code",
   "execution_count": 3,
   "metadata": {},
   "outputs": [],
   "source": [
    "with open('out_file/contents_data.json') as f:\n",
    "    contents_data_json = f.read()\n",
    "contents_data = json.loads(contents_data_json)"
   ]
  },
  {
   "cell_type": "code",
   "execution_count": 4,
   "metadata": {},
   "outputs": [
    {
     "name": "stdout",
     "output_type": "stream",
     "text": [
      "48052\n",
      "{u'comment': u'i had this phone for 1 year and its  great  \\r\\nit also have an awesme app callled garageband  \\r\\ngaming performance is the best  \\r\\nits even better than galaxy s7  \\r\\nsome times it being hot , i think because its made from aluminium anyway it have a strong glass and strong material it have a great battery and a super camera  \\r\\nanyway this is an awesome phone  \\r\\nand remember Apple devices are better than androids in performance. \\r\\nthe only missing thing in this phone is ios 10.3', u'time': u'21 Mar 2017'}\n"
     ]
    }
   ],
   "source": [
    "print(len(contents_data))\n",
    "print(contents_data[195])"
   ]
  },
  {
   "cell_type": "code",
   "execution_count": 5,
   "metadata": {
    "collapsed": true
   },
   "outputs": [],
   "source": [
    "eng_stopwords = set(stopwords.words('english'))"
   ]
  },
  {
   "cell_type": "code",
   "execution_count": 50,
   "metadata": {
    "collapsed": true
   },
   "outputs": [],
   "source": [
    "def clean_txt(txt):\n",
    "    txt = txt.lower()\n",
    "    for i in string.punctuation:\n",
    "        txt = txt.replace(i, ' ')\n",
    "    txt_token = txt.split(' ')\n",
    "    res_token = []\n",
    "    for txt in txt_token:\n",
    "        if txt and txt not in eng_stopwords:\n",
    "            res_token.append(txt)\n",
    "    res = \" \".join(res_token)\n",
    "    return res"
   ]
  },
  {
   "cell_type": "code",
   "execution_count": 51,
   "metadata": {},
   "outputs": [
    {
     "data": {
      "text/plain": [
       "'earth test test later'"
      ]
     },
     "execution_count": 51,
     "metadata": {},
     "output_type": "execute_result"
    }
   ],
   "source": [
    "clean_txt(\"earth!, test i you & I will test it later\")"
   ]
  },
  {
   "cell_type": "code",
   "execution_count": 52,
   "metadata": {},
   "outputs": [
    {
     "name": "stdout",
     "output_type": "stream",
     "text": [
      "48052\n"
     ]
    }
   ],
   "source": [
    "contents_cleaned = []\n",
    "for content_data in contents_data:\n",
    "    content_cleaned = {}\n",
    "    content_cleaned['comment'] = clean_txt(content_data['comment'])\n",
    "    content_cleaned['time'] = content_data['time']\n",
    "    contents_cleaned.append(content_cleaned)\n",
    "print(len(contents_cleaned))"
   ]
  },
  {
   "cell_type": "code",
   "execution_count": 53,
   "metadata": {},
   "outputs": [
    {
     "data": {
      "text/plain": [
       "{'comment': u'problem battery draining fast even getting 6 hours usage',\n",
       " 'time': u'15 hours ago'}"
      ]
     },
     "execution_count": 53,
     "metadata": {},
     "output_type": "execute_result"
    }
   ],
   "source": [
    "contents_cleaned[0]"
   ]
  },
  {
   "cell_type": "code",
   "execution_count": 54,
   "metadata": {},
   "outputs": [
    {
     "data": {
      "text/plain": [
       "CountVectorizer(analyzer=u'word', binary=False, decode_error=u'strict',\n",
       "        dtype=<type 'numpy.int64'>, encoding=u'utf-8', input=u'content',\n",
       "        lowercase=True, max_df=1.0, max_features=None, min_df=1,\n",
       "        ngram_range=(1, 1), preprocessor=None, stop_words=None,\n",
       "        strip_accents=None, token_pattern=u'(?u)\\\\b\\\\w\\\\w+\\\\b',\n",
       "        tokenizer=None, vocabulary=None)"
      ]
     },
     "execution_count": 54,
     "metadata": {},
     "output_type": "execute_result"
    }
   ],
   "source": [
    "cnt_vec = sklearn.feature_extraction.text.CountVectorizer()\n",
    "text = []\n",
    "for content_cleaned in contents_cleaned:\n",
    "    text.append(content_cleaned['comment'])\n",
    "cnt_vec.fit(text)"
   ]
  },
  {
   "cell_type": "code",
   "execution_count": 55,
   "metadata": {},
   "outputs": [
    {
     "data": {
      "text/plain": [
       "(48052, 35667)"
      ]
     },
     "execution_count": 55,
     "metadata": {},
     "output_type": "execute_result"
    }
   ],
   "source": [
    "res = cnt_vec.transform(text)\n",
    "res.shape"
   ]
  },
  {
   "cell_type": "code",
   "execution_count": 56,
   "metadata": {},
   "outputs": [
    {
     "data": {
      "text/plain": [
       "35667"
      ]
     },
     "execution_count": 56,
     "metadata": {},
     "output_type": "execute_result"
    }
   ],
   "source": [
    "len(cnt_vec.vocabulary_)"
   ]
  },
  {
   "cell_type": "code",
   "execution_count": 57,
   "metadata": {},
   "outputs": [
    {
     "data": {
      "text/plain": [
       "35667"
      ]
     },
     "execution_count": 57,
     "metadata": {},
     "output_type": "execute_result"
    }
   ],
   "source": [
    "vocabulary_inverse = dict((v,k) for k,v in cnt_vec.vocabulary_.iteritems())\n",
    "len(vocabulary_inverse)"
   ]
  },
  {
   "cell_type": "code",
   "execution_count": 58,
   "metadata": {},
   "outputs": [
    {
     "name": "stdout",
     "output_type": "stream",
     "text": [
      "11 1\n",
      "6s 1\n",
      "go 3\n",
      "ios 1\n",
      "ip 1\n",
      "iphone 1\n",
      "lag 1\n",
      "much 1\n",
      "pay 1\n",
      "people 1\n",
      "plus 3\n",
      "thing 1\n",
      "worth 1\n",
      "{'comment': u'people 6 plus go 6 plus worth pay go 7 plus go iphone 7 ip 6s much thing ios 11 lag', 'time': u'02 Dec 2017'}\n",
      "{u'comment': u'people who own 6 S plus ... Should I go for 6 S plus or is it worth to pay more and go for 7 plus ?no , you should go iphone 7 , because ip 6s+ too much thing at ios 11 will lag', u'time': u'02 Dec 2017'}\n"
     ]
    }
   ],
   "source": [
    "n = 4\n",
    "tmp = res[n].toarray()\n",
    "for i in range(tmp.shape[1]):\n",
    "    if tmp[0, i]:\n",
    "        print vocabulary_inverse[i], tmp[0, i]\n",
    "print(contents_cleaned[n])\n",
    "print(contents_data[n])"
   ]
  },
  {
   "cell_type": "code",
   "execution_count": 59,
   "metadata": {
    "collapsed": true
   },
   "outputs": [],
   "source": [
    "np_res = res.toarray()"
   ]
  },
  {
   "cell_type": "code",
   "execution_count": 69,
   "metadata": {},
   "outputs": [
    {
     "data": {
      "text/plain": [
       "0"
      ]
     },
     "execution_count": 69,
     "metadata": {},
     "output_type": "execute_result"
    }
   ],
   "source": [
    "np_res[0, 0]"
   ]
  },
  {
   "cell_type": "code",
   "execution_count": 71,
   "metadata": {
    "collapsed": true
   },
   "outputs": [],
   "source": [
    "np.savetxt('out_file/cleaned_data_matrix.csv', np_res, fmt='%d', delimiter=',')"
   ]
  },
  {
   "cell_type": "code",
   "execution_count": 72,
   "metadata": {
    "collapsed": true
   },
   "outputs": [],
   "source": [
    "vocab = []\n",
    "for i in range(len(vocabulary_inverse)):\n",
    "    vocab.append(vocabulary_inverse[i])"
   ]
  },
  {
   "cell_type": "code",
   "execution_count": 78,
   "metadata": {
    "collapsed": true
   },
   "outputs": [],
   "source": [
    "with open('out_file/vocab.txt', 'w+') as f:\n",
    "    for i in vocab:\n",
    "        f.write(i.encode('utf8')+'\\n')"
   ]
  },
  {
   "cell_type": "code",
   "execution_count": 83,
   "metadata": {},
   "outputs": [
    {
     "name": "stdout",
     "output_type": "stream",
     "text": [
      "0\n",
      "2000\n",
      "4000\n",
      "6000\n",
      "8000\n",
      "10000\n",
      "12000\n",
      "14000\n",
      "16000\n",
      "18000\n",
      "20000\n",
      "22000\n",
      "24000\n",
      "26000\n",
      "28000\n",
      "30000\n",
      "32000\n",
      "34000\n",
      "36000\n",
      "38000\n",
      "40000\n",
      "42000\n",
      "44000\n",
      "46000\n",
      "48000\n"
     ]
    },
    {
     "data": {
      "text/plain": [
       "(48052, 35667)"
      ]
     },
     "execution_count": 83,
     "metadata": {},
     "output_type": "execute_result"
    }
   ],
   "source": [
    "with open('out_file/cleaned_data_matrix.csv') as f:\n",
    "    total = []\n",
    "    for i, line in enumerate(f):\n",
    "        lin = line.split(',')\n",
    "        total.append(lin)\n",
    "        if i % 10000 == 0:\n",
    "            print(i)\n",
    "reloaded = np.array(total, dtype=np.int)\n",
    "reloaded.shape"
   ]
  },
  {
   "cell_type": "code",
   "execution_count": null,
   "metadata": {
    "collapsed": true
   },
   "outputs": [],
   "source": []
  }
 ],
 "metadata": {
  "anaconda-cloud": {},
  "kernelspec": {
   "display_name": "Python 2",
   "language": "python",
   "name": "python2"
  },
  "language_info": {
   "codemirror_mode": {
    "name": "ipython",
    "version": 2
   },
   "file_extension": ".py",
   "mimetype": "text/x-python",
   "name": "python",
   "nbconvert_exporter": "python",
   "pygments_lexer": "ipython2",
   "version": "2.7.14"
  }
 },
 "nbformat": 4,
 "nbformat_minor": 1
}
